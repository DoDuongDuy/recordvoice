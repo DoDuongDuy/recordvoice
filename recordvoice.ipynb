{
 "cells": [
  {
   "cell_type": "code",
   "execution_count": 5,
   "metadata": {},
   "outputs": [],
   "source": [
    "import tkinter as tk\n",
    "import threading\n",
    "import pyaudio\n",
    "import wave\n",
    "import nltk.data\n",
    "from nltk import tokenize"
   ]
  },
  {
   "cell_type": "markdown",
   "metadata": {},
   "source": [
    "topics : thoisu, gocnhin, thegioi, kinhdoanh, giaitri, thethao, phapluat, giaoduc, suckhoe, doisong, dulich, khoahoc, sohoa, xe, ykien, tamsu "
   ]
  },
  {
   "cell_type": "code",
   "execution_count": 6,
   "metadata": {},
   "outputs": [],
   "source": [
    "topic=\"doisong\""
   ]
  },
  {
   "cell_type": "code",
   "execution_count": 7,
   "metadata": {},
   "outputs": [],
   "source": [
    "with open(\"./list/\" + topic + \"/\" + topic + \".txt\",encoding='utf-8') as f:\n",
    "    data = f.read()\n",
    "arr1 = tokenize.sent_tokenize(data)\n",
    "arr2 = arr1\n",
    "number = len(arr1)"
   ]
  },
  {
   "cell_type": "code",
   "execution_count": 8,
   "metadata": {},
   "outputs": [
    {
     "name": "stdout",
     "output_type": "stream",
     "text": [
      "Những chủ trọ hào phóng trong đại dịch\n",
      "BÌNH DƯƠNGĐang bó gối ngồi trong phòng trọ, bà Lan, 71 tuổi đứng bật dậy, khi nghe chủ trọ nói sẽ miễn tiền phòng tháng 4, tháng 5.\n"
     ]
    }
   ],
   "source": [
    "print(arr2[0])"
   ]
  },
  {
   "cell_type": "code",
   "execution_count": 9,
   "metadata": {},
   "outputs": [],
   "source": [
    "class App():\n",
    "    chunk = 1024 \n",
    "    sample_format = pyaudio.paInt16 \n",
    "    channels = 2\n",
    "    fs = 44100  \n",
    "    \n",
    "    frames = []  \n",
    "    def __init__(self, master):\n",
    "        self.isrecording = False\n",
    "        self.button1 = tk.Button(main, text='start',command=self.startrecording)\n",
    "        self.button2 = tk.Button(main, text='stop',command=self.stoprecording)\n",
    "        self.button1.pack()\n",
    "        self.button2.pack()\n",
    "\n",
    "    def startrecording(self):\n",
    "        print(arr2[0])\n",
    "        self.p = pyaudio.PyAudio()  \n",
    "        self.stream = self.p.open(format=self.sample_format,channels=self.channels,rate=self.fs,frames_per_buffer=self.chunk,input=True)\n",
    "        self.isrecording = True\n",
    "        print('Recording')\n",
    "        t = threading.Thread(target=self.record)\n",
    "        t.start()\n",
    "        self.frames.clear()\n",
    "        \n",
    "    def stoprecording(self):\n",
    "        self.isrecording = False\n",
    "        print('recording complete')\n",
    "        self.filename=str(number-len(arr2))\n",
    "        with open('./list/' + topic + '/output.txt','a',encoding='utf-8') as f:\n",
    "            f.write('\\n'+self.filename + \".wav\")\n",
    "            f.write('\\n'+arr2[0])\n",
    "        del arr2[0]\n",
    "        if not arr2:\n",
    "          print(\"LIST IS EMPTY!!!\")\n",
    "        self.filename ='list/' + topic + '/' + self.filename+\".wav\"\n",
    "        wf = wave.open(self.filename, 'wb')\n",
    "        del self.filename\n",
    "        wf.setnchannels(self.channels)\n",
    "        wf.setsampwidth(self.p.get_sample_size(self.sample_format))\n",
    "        wf.setframerate(self.fs)\n",
    "        wf.writeframes(b''.join(self.frames))\n",
    "        wf.close()\n",
    "        self.frames.clear()\n",
    "    def record(self):\n",
    "        while self.isrecording:\n",
    "            data = self.stream.read(self.chunk)\n",
    "            self.frames.append(data)"
   ]
  },
  {
   "cell_type": "code",
   "execution_count": 10,
   "metadata": {},
   "outputs": [],
   "source": [
    "main = tk.Tk()\n",
    "main.title('record')\n",
    "main.geometry('200x50')\n",
    "app = App(main)\n",
    "main.mainloop()"
   ]
  },
  {
   "cell_type": "code",
   "execution_count": null,
   "metadata": {},
   "outputs": [],
   "source": []
  },
  {
   "cell_type": "code",
   "execution_count": null,
   "metadata": {},
   "outputs": [],
   "source": []
  }
 ],
 "metadata": {
  "kernelspec": {
   "display_name": "Python 3",
   "language": "python",
   "name": "python3"
  },
  "language_info": {
   "codemirror_mode": {
    "name": "ipython",
    "version": 3
   },
   "file_extension": ".py",
   "mimetype": "text/x-python",
   "name": "python",
   "nbconvert_exporter": "python",
   "pygments_lexer": "ipython3",
   "version": "3.7.6"
  }
 },
 "nbformat": 4,
 "nbformat_minor": 4
}
